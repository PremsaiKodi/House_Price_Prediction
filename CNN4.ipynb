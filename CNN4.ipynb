{
  "nbformat": 4,
  "nbformat_minor": 0,
  "metadata": {
    "colab": {
      "provenance": [],
      "authorship_tag": "ABX9TyObduiun2ZOfVSdzCMjsi9U",
      "include_colab_link": true
    },
    "kernelspec": {
      "name": "python3",
      "display_name": "Python 3"
    },
    "language_info": {
      "name": "python"
    }
  },
  "cells": [
    {
      "cell_type": "markdown",
      "metadata": {
        "id": "view-in-github",
        "colab_type": "text"
      },
      "source": [
        "<a href=\"https://colab.research.google.com/github/PremsaiKodi/House_Price_Prediction/blob/master/CNN4.ipynb\" target=\"_parent\"><img src=\"https://colab.research.google.com/assets/colab-badge.svg\" alt=\"Open In Colab\"/></a>"
      ]
    },
    {
      "cell_type": "code",
      "execution_count": 23,
      "metadata": {
        "id": "NnxXKzR-UoO4"
      },
      "outputs": [],
      "source": [
        "# Import necessary libraries\n",
        "import os\n",
        "import numpy as np\n",
        "import matplotlib.pyplot as plt\n",
        "import seaborn as sns\n",
        "from sklearn.metrics import confusion_matrix, classification_report\n",
        "import tensorflow as tf\n",
        "from tensorflow.keras.preprocessing.image import ImageDataGenerator\n",
        "from tensorflow.keras.models import Sequential\n",
        "from tensorflow.keras.layers import Conv2D, MaxPooling2D, Flatten, Dense, BatchNormalization\n",
        "from tensorflow.keras.applications import ResNet50\n",
        "from tensorflow.keras.optimizers import Adam\n",
        "from tensorflow.keras.callbacks import LearningRateScheduler"
      ]
    },
    {
      "cell_type": "code",
      "source": [
        "# Define constants\n",
        "IMAGE_SIZE = (128, 128)\n",
        "BATCH_SIZE = 32\n",
        "EPOCHS = 20"
      ],
      "metadata": {
        "id": "v8DGJ3S5UqaP"
      },
      "execution_count": 24,
      "outputs": []
    },
    {
      "cell_type": "code",
      "source": [
        "# Function for learning rate scheduling\n",
        "def lr_schedule(epoch):\n",
        "    lr = 1e-3\n",
        "    if epoch > 10:\n",
        "        lr *= 0.1\n",
        "    return lr"
      ],
      "metadata": {
        "id": "l36PIdCuUwL1"
      },
      "execution_count": 25,
      "outputs": []
    },
    {
      "cell_type": "code",
      "source": [
        "# Mount Google Drive\n",
        "from google.colab import drive\n",
        "drive.mount('/content/drive')\n",
        "drive_path = '/content/drive/My Drive'\n",
        "train_data_dir = os.path.join(drive_path, '/content/drive/MyDrive/Training')\n",
        "test_data_dir = os.path.join(drive_path, '/content/drive/MyDrive/Testing')"
      ],
      "metadata": {
        "colab": {
          "base_uri": "https://localhost:8080/",
          "height": 0
        },
        "id": "L20d8CsZcCyk",
        "outputId": "29c46817-5f7b-4848-d7d6-eaa50fc076f8"
      },
      "execution_count": 26,
      "outputs": [
        {
          "output_type": "stream",
          "name": "stdout",
          "text": [
            "Drive already mounted at /content/drive; to attempt to forcibly remount, call drive.mount(\"/content/drive\", force_remount=True).\n"
          ]
        }
      ]
    },
    {
      "cell_type": "code",
      "source": [
        "# Create data generators for training and testing with data augmentation\n",
        "train_datagen = ImageDataGenerator(\n",
        "    rescale=1./255,\n",
        "    shear_range=0.2,\n",
        "    zoom_range=0.2,\n",
        "    horizontal_flip=True\n",
        ")"
      ],
      "metadata": {
        "id": "L6rIQzvAUyu9"
      },
      "execution_count": 27,
      "outputs": []
    },
    {
      "cell_type": "code",
      "source": [
        "test_datagen = ImageDataGenerator(rescale=1./255)"
      ],
      "metadata": {
        "id": "BMwsH_gCU9iN"
      },
      "execution_count": 28,
      "outputs": []
    },
    {
      "cell_type": "code",
      "source": [
        "train_generator = train_datagen.flow_from_directory(\n",
        "    train_data_dir,\n",
        "    target_size=IMAGE_SIZE,\n",
        "    batch_size=BATCH_SIZE,\n",
        "    class_mode='categorical'\n",
        ")"
      ],
      "metadata": {
        "colab": {
          "base_uri": "https://localhost:8080/",
          "height": 0
        },
        "id": "-GnZZ73SU_b2",
        "outputId": "6ee4ef32-a776-45c5-be8a-2edf4b697f8e"
      },
      "execution_count": 29,
      "outputs": [
        {
          "output_type": "stream",
          "name": "stdout",
          "text": [
            "Found 723 images belonging to 3 classes.\n"
          ]
        }
      ]
    },
    {
      "cell_type": "code",
      "source": [
        "test_generator = test_datagen.flow_from_directory(\n",
        "    test_data_dir,\n",
        "    target_size=IMAGE_SIZE,\n",
        "    batch_size=BATCH_SIZE,\n",
        "    class_mode='categorical'\n",
        ")"
      ],
      "metadata": {
        "colab": {
          "base_uri": "https://localhost:8080/",
          "height": 0
        },
        "id": "cKpCnKmxVBVV",
        "outputId": "e323da9f-d803-41b5-819d-b713a9dd75c2"
      },
      "execution_count": 30,
      "outputs": [
        {
          "output_type": "stream",
          "name": "stdout",
          "text": [
            "Found 180 images belonging to 3 classes.\n"
          ]
        }
      ]
    },
    {
      "cell_type": "code",
      "source": [
        "# Build the model with ResNet50 and custom layers\n",
        "base_model = ResNet50(include_top=False, weights='imagenet', input_shape=(IMAGE_SIZE[0], IMAGE_SIZE[1], 3))"
      ],
      "metadata": {
        "id": "ojxwIqCTVCvF"
      },
      "execution_count": 31,
      "outputs": []
    },
    {
      "cell_type": "code",
      "source": [
        "model = Sequential()\n",
        "model.add(base_model)\n",
        "model.add(Flatten())\n",
        "model.add(Dense(128, activation='relu'))\n",
        "model.add(BatchNormalization())\n",
        "model.add(Dense(3, activation='softmax'))  # Assuming you have 3 classes/diseases"
      ],
      "metadata": {
        "id": "nTsSEQ_bVGRd"
      },
      "execution_count": 32,
      "outputs": []
    },
    {
      "cell_type": "code",
      "source": [
        "# Compile the model\n",
        "model.compile(optimizer=Adam(learning_rate=1e-3), loss='categorical_crossentropy', metrics=['accuracy'])"
      ],
      "metadata": {
        "id": "1RiG7bJIVJNV"
      },
      "execution_count": 33,
      "outputs": []
    },
    {
      "cell_type": "code",
      "source": [
        "# Learning rate scheduler callback\n",
        "lr_scheduler = LearningRateScheduler(lr_schedule)"
      ],
      "metadata": {
        "id": "9iVeblA0YOAM"
      },
      "execution_count": 34,
      "outputs": []
    },
    {
      "cell_type": "code",
      "source": [
        "# Train the model\n",
        "history = model.fit(train_generator, epochs=EPOCHS, validation_data=test_generator, callbacks=[lr_scheduler])"
      ],
      "metadata": {
        "colab": {
          "base_uri": "https://localhost:8080/",
          "height": 0
        },
        "id": "0HJhNjZ4VLp9",
        "outputId": "e8af76c6-a6c4-4c0c-e178-63cb94a40cfb"
      },
      "execution_count": 35,
      "outputs": [
        {
          "output_type": "stream",
          "name": "stdout",
          "text": [
            "Epoch 1/20\n",
            "23/23 [==============================] - 300s 12s/step - loss: 1.5686 - accuracy: 0.4288 - val_loss: 15078.2891 - val_accuracy: 0.3167 - lr: 0.0010\n",
            "Epoch 2/20\n",
            "23/23 [==============================] - 232s 10s/step - loss: 1.0215 - accuracy: 0.5062 - val_loss: 742.6234 - val_accuracy: 0.3556 - lr: 0.0010\n",
            "Epoch 3/20\n",
            "23/23 [==============================] - 238s 10s/step - loss: 0.9483 - accuracy: 0.5712 - val_loss: 2134.9744 - val_accuracy: 0.3556 - lr: 0.0010\n",
            "Epoch 4/20\n",
            "23/23 [==============================] - 230s 10s/step - loss: 0.8334 - accuracy: 0.6321 - val_loss: 4.2471 - val_accuracy: 0.3167 - lr: 0.0010\n",
            "Epoch 5/20\n",
            "23/23 [==============================] - 234s 10s/step - loss: 0.7986 - accuracy: 0.6210 - val_loss: 1.1895 - val_accuracy: 0.3556 - lr: 0.0010\n",
            "Epoch 6/20\n",
            "23/23 [==============================] - 230s 10s/step - loss: 0.7855 - accuracy: 0.6584 - val_loss: 1.3400 - val_accuracy: 0.3167 - lr: 0.0010\n",
            "Epoch 7/20\n",
            "23/23 [==============================] - 232s 10s/step - loss: 0.6884 - accuracy: 0.7054 - val_loss: 1.3442 - val_accuracy: 0.3167 - lr: 0.0010\n",
            "Epoch 8/20\n",
            "23/23 [==============================] - 223s 10s/step - loss: 0.6964 - accuracy: 0.7012 - val_loss: 1.4793 - val_accuracy: 0.3167 - lr: 0.0010\n",
            "Epoch 9/20\n",
            "23/23 [==============================] - 231s 10s/step - loss: 0.6366 - accuracy: 0.7095 - val_loss: 1.9469 - val_accuracy: 0.3167 - lr: 0.0010\n",
            "Epoch 10/20\n",
            "23/23 [==============================] - 233s 10s/step - loss: 0.6132 - accuracy: 0.7234 - val_loss: 1.5391 - val_accuracy: 0.3167 - lr: 0.0010\n",
            "Epoch 11/20\n",
            "23/23 [==============================] - 234s 10s/step - loss: 0.6116 - accuracy: 0.7469 - val_loss: 1.9484 - val_accuracy: 0.3167 - lr: 0.0010\n",
            "Epoch 12/20\n",
            "23/23 [==============================] - 236s 10s/step - loss: 0.5163 - accuracy: 0.7801 - val_loss: 1.8636 - val_accuracy: 0.3167 - lr: 1.0000e-04\n",
            "Epoch 13/20\n",
            "23/23 [==============================] - 231s 10s/step - loss: 0.4578 - accuracy: 0.7994 - val_loss: 1.9308 - val_accuracy: 0.3167 - lr: 1.0000e-04\n",
            "Epoch 14/20\n",
            "23/23 [==============================] - 236s 10s/step - loss: 0.4172 - accuracy: 0.8202 - val_loss: 2.0382 - val_accuracy: 0.3167 - lr: 1.0000e-04\n",
            "Epoch 15/20\n",
            "23/23 [==============================] - 233s 10s/step - loss: 0.4035 - accuracy: 0.8382 - val_loss: 2.1198 - val_accuracy: 0.3167 - lr: 1.0000e-04\n",
            "Epoch 16/20\n",
            "23/23 [==============================] - 233s 10s/step - loss: 0.3697 - accuracy: 0.8492 - val_loss: 2.1197 - val_accuracy: 0.3167 - lr: 1.0000e-04\n",
            "Epoch 17/20\n",
            "23/23 [==============================] - 218s 9s/step - loss: 0.3696 - accuracy: 0.8562 - val_loss: 2.0202 - val_accuracy: 0.3167 - lr: 1.0000e-04\n",
            "Epoch 18/20\n",
            "23/23 [==============================] - 224s 10s/step - loss: 0.3538 - accuracy: 0.8534 - val_loss: 2.0705 - val_accuracy: 0.3167 - lr: 1.0000e-04\n",
            "Epoch 19/20\n",
            "23/23 [==============================] - 225s 10s/step - loss: 0.2909 - accuracy: 0.8921 - val_loss: 2.1079 - val_accuracy: 0.3167 - lr: 1.0000e-04\n",
            "Epoch 20/20\n",
            "23/23 [==============================] - 224s 10s/step - loss: 0.2683 - accuracy: 0.8963 - val_loss: 2.2997 - val_accuracy: 0.3167 - lr: 1.0000e-04\n"
          ]
        }
      ]
    },
    {
      "cell_type": "code",
      "source": [
        "# Evaluate the model on test data\n",
        "test_loss, test_accuracy = model.evaluate(test_generator)\n",
        "print(f'Test Accuracy: {test_accuracy}')"
      ],
      "metadata": {
        "id": "YhvkI1wKVNbd",
        "colab": {
          "base_uri": "https://localhost:8080/",
          "height": 0
        },
        "outputId": "830ab0be-940f-4e32-b18d-6b20a0639bfe"
      },
      "execution_count": 36,
      "outputs": [
        {
          "output_type": "stream",
          "name": "stdout",
          "text": [
            "6/6 [==============================] - 14s 2s/step - loss: 2.2997 - accuracy: 0.3167\n",
            "Test Accuracy: 0.3166666626930237\n"
          ]
        }
      ]
    },
    {
      "cell_type": "code",
      "source": [
        "def predict_image(image_path):\n",
        "    img = tf.keras.preprocessing.image.load_img(image_path, target_size=IMAGE_SIZE)\n",
        "    img_array = tf.keras.preprocessing.image.img_to_array(img)\n",
        "    img_array = np.expand_dims(img_array, axis=0)\n",
        "    img_array /= 255.0  # Normalize the image\n",
        "    prediction = model.predict(img_array)\n",
        "    class_index = np.argmax(prediction)\n",
        "\n",
        "    # Assuming classes are named 'class_0', 'class_1', 'class_2'\n",
        "    class_names = ['Atelectasis', 'Cardiomelagy', 'Emphysema']\n",
        "\n",
        "    result = {\n",
        "        'class_name': class_names[class_index],\n",
        "        'confidence': prediction[0][class_index]\n",
        "    }\n",
        "\n",
        "    return result"
      ],
      "metadata": {
        "id": "3FRaMKDRe9z3"
      },
      "execution_count": 37,
      "outputs": []
    },
    {
      "cell_type": "code",
      "source": [
        "# Plot training history\n",
        "plt.figure(figsize=(12, 4))\n",
        "plt.subplot(1, 2, 1)\n",
        "plt.plot(history.history['accuracy'], label='Training Accuracy')\n",
        "plt.plot(history.history['val_accuracy'], label='Validation Accuracy')\n",
        "plt.xlabel('Epoch')\n",
        "plt.ylabel('Accuracy')\n",
        "plt.legend()"
      ],
      "metadata": {
        "colab": {
          "base_uri": "https://localhost:8080/",
          "height": 406
        },
        "id": "qidqRp8ictJK",
        "outputId": "5a8bf839-dcc1-4fd5-d8d2-c17ca63ff1da"
      },
      "execution_count": 38,
      "outputs": [
        {
          "output_type": "execute_result",
          "data": {
            "text/plain": [
              "<matplotlib.legend.Legend at 0x7e5a4ac7fee0>"
            ]
          },
          "metadata": {},
          "execution_count": 38
        },
        {
          "output_type": "display_data",
          "data": {
            "text/plain": [
              "<Figure size 1200x400 with 1 Axes>"
            ],
            "image/png": "[encoded data removed]"
          },
          "metadata": {}
        }
      ]
    },
    {
      "cell_type": "code",
      "source": [
        "# Make predictions on test data\n",
        "y_true = test_generator.classes\n",
        "y_pred_prob = model.predict(test_generator)\n",
        "y_pred = np.argmax(y_pred_prob, axis=1)"
      ],
      "metadata": {
        "colab": {
          "base_uri": "https://localhost:8080/",
          "height": 0
        },
        "id": "NLgDTmbTctWr",
        "outputId": "197bf2f7-11d5-4e50-f5af-4ac59c7b1e3e"
      },
      "execution_count": 39,
      "outputs": [
        {
          "output_type": "stream",
          "name": "stdout",
          "text": [
            "6/6 [==============================] - 15s 2s/step\n"
          ]
        }
      ]
    },
    {
      "cell_type": "code",
      "source": [
        "# Confusion Matrix\n",
        "conf_matrix = confusion_matrix(y_true, y_pred)\n",
        "plt.subplot(1, 2, 2)\n",
        "sns.heatmap(conf_matrix, annot=True, fmt='d', cmap='Blues', xticklabels=train_generator.class_indices.keys(), yticklabels=train_generator.class_indices.keys())\n",
        "plt.xlabel('Predicted')\n",
        "plt.ylabel('True')\n",
        "plt.title('Confusion Matrix')"
      ],
      "metadata": {
        "colab": {
          "base_uri": "https://localhost:8080/",
          "height": 572
        },
        "id": "GVh0wg92cxjG",
        "outputId": "b7e8a333-0140-452e-a4a0-9a5aec703485"
      },
      "execution_count": 40,
      "outputs": [
        {
          "output_type": "execute_result",
          "data": {
            "text/plain": [
              "Text(0.5, 1.0, 'Confusion Matrix')"
            ]
          },
          "metadata": {},
          "execution_count": 40
        },
        {
          "output_type": "display_data",
          "data": {
            "text/plain": [
              "<Figure size 640x480 with 2 Axes>"
            ],
            "image/png": "[encoded data removed]"
          },
          "metadata": {}
        }
      ]
    },
    {
      "cell_type": "code",
      "source": [
        "# Classification Report\n",
        "class_report = classification_report(y_true, y_pred, target_names=train_generator.class_indices.keys())\n",
        "print('Classification Report:')\n",
        "print(class_report)"
      ],
      "metadata": {
        "colab": {
          "base_uri": "https://localhost:8080/",
          "height": 0
        },
        "id": "HRRqVp6jcxmI",
        "outputId": "09335c89-bc14-42b7-d0f7-9f0b41295ac9"
      },
      "execution_count": 41,
      "outputs": [
        {
          "output_type": "stream",
          "name": "stdout",
          "text": [
            "Classification Report:\n",
            "              precision    recall  f1-score   support\n",
            "\n",
            " Atelectasis       0.32      1.00      0.48        57\n",
            "Cardiomelagy       0.00      0.00      0.00        59\n",
            "   Emphysema       0.00      0.00      0.00        64\n",
            "\n",
            "    accuracy                           0.32       180\n",
            "   macro avg       0.11      0.33      0.16       180\n",
            "weighted avg       0.10      0.32      0.15       180\n",
            "\n"
          ]
        },
        {
          "output_type": "stream",
          "name": "stderr",
          "text": [
            "/usr/local/lib/python3.10/dist-packages/sklearn/metrics/_classification.py:1344: UndefinedMetricWarning: Precision and F-score are ill-defined and being set to 0.0 in labels with no predicted samples. Use `zero_division` parameter to control this behavior.\n",
            "  _warn_prf(average, modifier, msg_start, len(result))\n",
            "/usr/local/lib/python3.10/dist-packages/sklearn/metrics/_classification.py:1344: UndefinedMetricWarning: Precision and F-score are ill-defined and being set to 0.0 in labels with no predicted samples. Use `zero_division` parameter to control this behavior.\n",
            "  _warn_prf(average, modifier, msg_start, len(result))\n",
            "/usr/local/lib/python3.10/dist-packages/sklearn/metrics/_classification.py:1344: UndefinedMetricWarning: Precision and F-score are ill-defined and being set to 0.0 in labels with no predicted samples. Use `zero_division` parameter to control this behavior.\n",
            "  _warn_prf(average, modifier, msg_start, len(result))\n"
          ]
        }
      ]
    },
    {
      "cell_type": "code",
      "source": [
        "# Calculate Precision\n",
        "precision = np.diag(conf_matrix) / np.sum(conf_matrix, axis=0)\n",
        "precision_dict = dict(zip(train_generator.class_indices.keys(), precision))\n",
        "print('Precision:')\n",
        "print(precision_dict)"
      ],
      "metadata": {
        "colab": {
          "base_uri": "https://localhost:8080/",
          "height": 0
        },
        "id": "PbMTjaspc1ty",
        "outputId": "5c3f4870-843b-46a1-84c8-491ed33273c7"
      },
      "execution_count": 42,
      "outputs": [
        {
          "output_type": "stream",
          "name": "stdout",
          "text": [
            "Precision:\n",
            "{'Atelectasis': 0.31666666666666665, 'Cardiomelagy': nan, 'Emphysema': nan}\n"
          ]
        },
        {
          "output_type": "stream",
          "name": "stderr",
          "text": [
            "<ipython-input-42-f51da6b23b37>:2: RuntimeWarning: invalid value encountered in divide\n",
            "  precision = np.diag(conf_matrix) / np.sum(conf_matrix, axis=0)\n"
          ]
        }
      ]
    },
    {
      "cell_type": "code",
      "source": [
        "# Example usage\n",
        "new_image_path = '/content/drive/MyDrive/Checking/Atelectasis/00008042_008.png'\n",
        "result = predict_image(new_image_path)\n",
        "print(f\"The model predicts: {result}\")"
      ],
      "metadata": {
        "colab": {
          "base_uri": "https://localhost:8080/",
          "height": 0
        },
        "id": "Kh3gHRHvQGzp",
        "outputId": "9b7e1285-b89d-429a-8db4-a98774935ee5"
      },
      "execution_count": 51,
      "outputs": [
        {
          "output_type": "stream",
          "name": "stdout",
          "text": [
            "1/1 [==============================] - 0s 184ms/step\n",
            "The model predicts: {'class_name': 'Atelectasis', 'confidence': 0.90035194}\n"
          ]
        }
      ]
    }
  ]
}